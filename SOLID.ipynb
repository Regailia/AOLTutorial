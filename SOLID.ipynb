{
 "cells": [
  {
   "cell_type": "markdown",
   "metadata": {},
   "source": [
    "# SOLID Principles"
   ]
  },
  {
   "cell_type": "markdown",
   "metadata": {},
   "source": [
    "The SOLID principles is a set of guidelines to help with making code maintainable and extendable. \n",
    "* If you're doing research work and only have short snippets of code, it won't matter too much most of the time. \n",
    "* It's really helpful if you're building something larger or in a collaboration and want to maintain or extend the code in the future. In this case, following these guidelines can make your code more easily understood and modifiable by your collaborators, and open for extension in the future. \n",
    "\n",
    "In this notebook - we'll go through an example code to illustrate all of the principles. "
   ]
  },
  {
   "cell_type": "markdown",
   "metadata": {},
   "source": [
    "# Original Code"
   ]
  },
  {
   "cell_type": "markdown",
   "metadata": {},
   "source": [
    "The code below shows a class called 'TimLab' that allows for management of Tim's lab. It does three main things:\n",
    "* Adding students to the lab. \n",
    "* Finding out the total cost to fund the students based on their years needed and funding per year. \n",
    "* Taking care of the funding by identifying the funding source and associated account number. \n",
    "\n",
    "Running the code will output the total cost, the fund source, the fund account number and whether or not the students are actually funded. "
   ]
  },
  {
   "cell_type": "code",
   "execution_count": 17,
   "metadata": {},
   "outputs": [
    {
     "name": "stdout",
     "output_type": "stream",
     "text": [
      "30\n",
      "NSERC funding.\n",
      "Account number: 123456\n",
      "funded\n"
     ]
    }
   ],
   "source": [
    "class TimLab:\n",
    "    people = []\n",
    "    funding_per_year = []\n",
    "    years_needed = []\n",
    "    status = 'unfunded'\n",
    "\n",
    "    def __init__(self, year):\n",
    "        self.year = year\n",
    "    \n",
    "    def add_student(self, name, funding, years):\n",
    "        self.people.append(name)\n",
    "        self.funding_per_year.append(funding)\n",
    "        self.years_needed.append(years)\n",
    "\n",
    "    def total_cost(self):\n",
    "        total = sum(funding * years for funding, years in zip(self.funding_per_year, self.years_needed))\n",
    "        return total\n",
    "\n",
    "    def funding(self, fund, account_number):\n",
    "        if fund == 'NSERC':\n",
    "            print(\"NSERC funding.\")\n",
    "            print(f\"Account number: {account_number}\")\n",
    "            self.status = \"funded\"\n",
    "        elif fund == \"CIHR\":\n",
    "            print(\"CIHR funding.\")\n",
    "            print(f\"Account number: {account_number}\")\n",
    "            self.status = \"funded\"\n",
    "        elif fund == \"None\":\n",
    "            print(\"No funding available.\")\n",
    "            self.status == \"not funded\"\n",
    "        else:\n",
    "            raise Exception(f\"Unknown funding source: {fund}\")\n",
    "\n",
    "\n",
    "aol2024 = TimLab(2024)\n",
    "aol2024.add_student(\"Bing\", 30, 1)\n",
    "aol2024.add_student(\"Jesse\", 30, 0)\n",
    "\n",
    "print(aol2024.total_cost())\n",
    "aol2024.funding(\"NSERC\", 123456)\n",
    "print(aol2024.status)"
   ]
  },
  {
   "cell_type": "markdown",
   "metadata": {},
   "source": [
    "As a quick note: this code looks okay - pretty tight, easy to understand, and does what we want. \n",
    "* As I mentioned before, for most of us during our research process, this is fine and you don't need to follow anything below. \n",
    "* But if you're looking to collaborate on your code and/or trying to write code that will lead to bigger pieces and need to be extended further down the road, you'd want to try to apply the following. \n",
    "* Additionally, it is often that you come back to code you haven't touched for a while to add new features or rewrite old features, and the following would help with that extension and understandability. "
   ]
  },
  {
   "cell_type": "markdown",
   "metadata": {},
   "source": [
    "# S - Single Responsibilty"
   ]
  },
  {
   "cell_type": "markdown",
   "metadata": {},
   "source": [
    "The S in SOLID is for single responsibility. You ideally want your classes and methods to not do to much and have a single responsibility. This would allow for easy reuse in the future. In the original case, the class `TimLab()` has too many responsibilities. It has to add students (which makes sense), calculate the total funding needed by the lab (which makes sense), and figure out the funding information and process (which is too much). Additionally, the funding method is kind of messy, with a lot of if/else statements. We can rewrite the funding method into its own class.  "
   ]
  },
  {
   "cell_type": "code",
   "execution_count": 18,
   "metadata": {},
   "outputs": [],
   "source": [
    "class TimLab:\n",
    "    people = []\n",
    "    funding_per_year = []\n",
    "    years_needed = []\n",
    "    status = 'unfunded'\n",
    "\n",
    "    def __init__(self, year):\n",
    "        self.year = year\n",
    "\n",
    "    def add_student(self, name, funding, years):\n",
    "        self.people.append(name)\n",
    "        self.funding_per_year.append(funding)\n",
    "        self.years_needed.append(years)\n",
    "\n",
    "    def total_cost(self):\n",
    "        total = sum(funding * years for funding, years in zip(self.funding_per_year, self.years_needed))\n",
    "        return total\n",
    "    \n",
    "    # since we no long can directly change the status, we need a new method in TimLab that would allow us to change\n",
    "    # the status of the TimLab object.\n",
    "    def set_status(self, status):\n",
    "        self.status = status"
   ]
  },
  {
   "cell_type": "markdown",
   "metadata": {},
   "source": [
    "Making the funding function into its own class, we'll pass an instance of `TimLab()` into it to indicate which object it's looking at funding and its status. "
   ]
  },
  {
   "cell_type": "code",
   "execution_count": 20,
   "metadata": {},
   "outputs": [
    {
     "name": "stdout",
     "output_type": "stream",
     "text": [
      "30\n",
      "NSERC funding.\n",
      "Account number: 123456\n",
      "funded\n"
     ]
    }
   ],
   "source": [
    "class FundingSources:\n",
    "    def nserc(self, lab, account_number):\n",
    "        print(\"NSERC funding.\")\n",
    "        print(f\"Account number: {account_number}\")\n",
    "        lab.set_status(\"funded\")\n",
    "\n",
    "    def cihr(self, lab, account_number):\n",
    "        print(\"CIHR funding.\")\n",
    "        print(f\"Account number: {account_number}\")\n",
    "        lab.set_status(\"funded\")\n",
    "\n",
    "    def no_fund(self, lab):\n",
    "        print(\"No funding\")\n",
    "        lab.set_status(\"Still not funded\")\n",
    "\n",
    "\n",
    "aol2024 = TimLab(2024)\n",
    "aol2024.add_student(\"Bing\", 30, 1)\n",
    "aol2024.add_student(\"Jesse\", 30, 0)\n",
    "\n",
    "print(aol2024.total_cost())\n",
    "\n",
    "funding = FundingSources()\n",
    "funding.nserc(aol2024, 123456)\n",
    "\n",
    "print(aol2024.status)\n",
    "aol2024.funding_per_year.clear()"
   ]
  },
  {
   "cell_type": "markdown",
   "metadata": {},
   "source": [
    "As can be seen, there's no change in the output, but the code itself is much more usable as the responsibilties are appropriately divided and we can now change funding, for instance, without changing the entire lab object. "
   ]
  },
  {
   "cell_type": "markdown",
   "metadata": {},
   "source": [
    "# O - Open Closed"
   ]
  },
  {
   "cell_type": "markdown",
   "metadata": {},
   "source": [
    "The O in SOLID is for open-closed. This means:\n",
    "* Your classes should be open for extension - we should be able to add additional functionality easily\n",
    "* While being closed for modification - code should be able to be extended, but not by modifying the original classes\n",
    "\n",
    "In the above case with our new `FundingSources` class, we would have to modifying the funding class if we wanted to add a new source. So we can rewrite this using subclasses. "
   ]
  },
  {
   "cell_type": "code",
   "execution_count": 28,
   "metadata": {},
   "outputs": [
    {
     "name": "stdout",
     "output_type": "stream",
     "text": [
      "30\n",
      "SSHRC funding.\n",
      "Account name: SSHRCAcc\n",
      "funded\n"
     ]
    }
   ],
   "source": [
    "from abc import ABC, abstractmethod\n",
    "\n",
    "# in case you're unfamiliar - abstract method basically sets a blueprint that other subclasses must have\n",
    "class FundingSources(ABC):\n",
    "    @abstractmethod\n",
    "    def fund(self, lab, account_number=None):\n",
    "        pass\n",
    "\n",
    "# each of the following is a subclass of FundingSources()\n",
    "class Nserc(FundingSources):\n",
    "    def fund(self, lab, account_number):\n",
    "        print(\"NSERC funding.\")\n",
    "        print(f\"Account number: {account_number}\")\n",
    "        lab.set_status(\"funded\")\n",
    "\n",
    "class Cihr(FundingSources):\n",
    "    def fund(self, lab, account_number):\n",
    "        print(\"CIHR funding.\")\n",
    "        print(f\"Account number: {account_number}\")\n",
    "        lab.set_status(\"funded\")\n",
    "\n",
    "# now that we have subclasses, we can easily add a new funding source - SSHRC as a subclass, without changing any of the\n",
    "# existing classes or subclasses\n",
    "class Sshrc(FundingSources):\n",
    "    def fund(self, lab, account_number):\n",
    "        print(\"SSHRC funding.\")\n",
    "        print(f\"Account name: {account_number}\")\n",
    "        lab.set_status(\"funded\")\n",
    "\n",
    "class NoFund(FundingSources):\n",
    "    def fund(self, lab, account_number):\n",
    "        print(\"No funding\")\n",
    "        lab.set_status(\"Still not funded\")\n",
    "\n",
    "\n",
    "aol2024 = TimLab(2024)\n",
    "aol2024.add_student(\"Bing\", 30, 1)\n",
    "aol2024.add_student(\"Jesse\", 30, 0)\n",
    "\n",
    "print(aol2024.total_cost())\n",
    "\n",
    "# change the funding to our new funding source\n",
    "funding = Sshrc()\n",
    "funding.fund(aol2024, 'SSHRCAcc')\n",
    "\n",
    "print(aol2024.status)\n",
    "aol2024.funding_per_year.clear()"
   ]
  },
  {
   "cell_type": "markdown",
   "metadata": {},
   "source": [
    "As can be seen, the we can now use our new funding source, SSHRC, very easily. And this allows us to add any number of new funding sources without changing the `FundingSources()` class. "
   ]
  },
  {
   "cell_type": "markdown",
   "metadata": {},
   "source": [
    "# L - Liskov Substitution Principle"
   ]
  },
  {
   "cell_type": "markdown",
   "metadata": {},
   "source": [
    "The L is for Liskov Substitution Principle. This means that in our code, any objects we have should be able to be replaced by another subclass without breaking the program. "
   ]
  },
  {
   "cell_type": "markdown",
   "metadata": {},
   "source": [
    "If you look in the codeblock above, you'll notice that our new funding source, `SSHRC` doesn't take an account number - it needs an account name. We ran the above code and it still worked fine, but it's forcing the parameter to be what we want. Imagine if that parameter took the account number and did some other operation on it, which doesn't work when the input is a string. This would also be confusing code, as it doesn't show that SSHRC needs a different parameter. \n",
    "\n",
    "We can fix this by initializing the parameter. "
   ]
  },
  {
   "cell_type": "code",
   "execution_count": 31,
   "metadata": {},
   "outputs": [
    {
     "name": "stdout",
     "output_type": "stream",
     "text": [
      "30\n",
      "NSERC funding.\n",
      "Account number: Tim2024_NSERC\n",
      "funded\n"
     ]
    }
   ],
   "source": [
    "# now we no longer need to define `account_number` in our FundingSources() class\n",
    "class FundingSources(ABC):\n",
    "    @abstractmethod\n",
    "    def fund(self, lab):\n",
    "        pass\n",
    "\n",
    "class Nserc(FundingSources):\n",
    "    # for each of these classes, we can initalize it as a separate parameter - so here it would be an account number.    \n",
    "    def __init__(self, account_number):\n",
    "        self.account_number = account_number\n",
    "    def fund(self, lab):\n",
    "        print(\"NSERC funding.\")\n",
    "        print(f\"Account number: {self.account_number}\")\n",
    "        lab.set_status(\"funded\")\n",
    "\n",
    "class Cihr(FundingSources):\n",
    "    def __init__(self, account_number):\n",
    "        self.account_number = account_number\n",
    "    def fund(self, lab):\n",
    "        print(\"CIHR funding.\")\n",
    "        print(f\"Account number: {self.account_number}\")\n",
    "        lab.set_status(\"funded\")\n",
    "\n",
    "class Sshrc(FundingSources):\n",
    "    # here we initalize it as account name\n",
    "    def __init__(self, account_name):\n",
    "        self.account_name = account_name\n",
    "    def fund(self, lab):\n",
    "        print(\"SSHRC funding.\")\n",
    "        print(f\"Account name: {self.account_name}\")\n",
    "        lab.set_status(\"funded\")\n",
    "\n",
    "class NoFund(FundingSources):\n",
    "    def fund(self, lab):\n",
    "        print(\"No funding\")\n",
    "        lab.set_status(\"Still not funded\")\n",
    "\n",
    "\n",
    "aol2024 = TimLab(2024)\n",
    "aol2024.add_student(\"Bing\", 30, 1)\n",
    "aol2024.add_student(\"Jesse\", 30, 0)\n",
    "\n",
    "print(aol2024.total_cost())\n",
    "\n",
    "funding = Nserc(\"Tim2024_NSERC\")\n",
    "funding.fund(aol2024)\n",
    "\n",
    "print(aol2024.status)\n",
    "aol2024.funding_per_year.clear()"
   ]
  },
  {
   "cell_type": "markdown",
   "metadata": {},
   "source": [
    "Again, the output doesn't change - but now we're not forcing the parameter `account_number` to do be multiple different things and it will still work if we replace an NSERC fund with SSHRC fund. "
   ]
  },
  {
   "cell_type": "markdown",
   "metadata": {},
   "source": [
    "# I - Interface Segregation"
   ]
  },
  {
   "cell_type": "markdown",
   "metadata": {},
   "source": [
    "The I in SOLID is for interface segregation. It means that classes shouldn't need to depend on interfaces that they aren't using. In practice, this means that we should split large interfaces to smaller ones for usability. \n",
    "\n",
    "Suppose for SSHRC, Tim needs to get approval via email from the MIE Department before the funding can be processed. An intuitive way would be to add it as an abstract method in the original `FundingSources()` class as so. "
   ]
  },
  {
   "cell_type": "code",
   "execution_count": 37,
   "metadata": {},
   "outputs": [
    {
     "name": "stdout",
     "output_type": "stream",
     "text": [
      "30\n"
     ]
    },
    {
     "ename": "TypeError",
     "evalue": "Can't instantiate abstract class Nserc with abstract methods email_check",
     "output_type": "error",
     "traceback": [
      "\u001b[1;31m---------------------------------------------------------------------------\u001b[0m",
      "\u001b[1;31mTypeError\u001b[0m                                 Traceback (most recent call last)",
      "\u001b[1;32m<ipython-input-37-4e421984960b>\u001b[0m in \u001b[0;36m<module>\u001b[1;34m()\u001b[0m\n\u001b[0;32m     54\u001b[0m \u001b[0mprint\u001b[0m\u001b[1;33m(\u001b[0m\u001b[0maol2024\u001b[0m\u001b[1;33m.\u001b[0m\u001b[0mtotal_cost\u001b[0m\u001b[1;33m(\u001b[0m\u001b[1;33m)\u001b[0m\u001b[1;33m)\u001b[0m\u001b[1;33m\u001b[0m\u001b[0m\n\u001b[0;32m     55\u001b[0m \u001b[1;33m\u001b[0m\u001b[0m\n\u001b[1;32m---> 56\u001b[1;33m \u001b[0mfunding\u001b[0m \u001b[1;33m=\u001b[0m \u001b[0mNserc\u001b[0m\u001b[1;33m(\u001b[0m\u001b[1;34m\"Tim2024_NSERC\"\u001b[0m\u001b[1;33m)\u001b[0m\u001b[1;33m\u001b[0m\u001b[0m\n\u001b[0m\u001b[0;32m     57\u001b[0m \u001b[0mfunding\u001b[0m\u001b[1;33m.\u001b[0m\u001b[0mfund\u001b[0m\u001b[1;33m(\u001b[0m\u001b[0maol2024\u001b[0m\u001b[1;33m)\u001b[0m\u001b[1;33m\u001b[0m\u001b[0m\n\u001b[0;32m     58\u001b[0m \u001b[1;33m\u001b[0m\u001b[0m\n",
      "\u001b[1;31mTypeError\u001b[0m: Can't instantiate abstract class Nserc with abstract methods email_check"
     ]
    }
   ],
   "source": [
    "from abc import ABC, abstractmethod\n",
    "\n",
    "class FundingSources(ABC):\n",
    "    @abstractmethod\n",
    "    def fund(self, lab):\n",
    "        pass\n",
    "    \n",
    "    # new abstract method in our original class\n",
    "    @abstractmethod\n",
    "    def email_check(self, email):\n",
    "        pass\n",
    "\n",
    "\n",
    "class Nserc(FundingSources):   \n",
    "    def __init__(self, account_number):\n",
    "        self.account_number = account_number\n",
    "    def fund(self, lab):\n",
    "        print(\"NSERC funding.\")\n",
    "        print(f\"Account number: {self.account_number}\")\n",
    "        lab.set_status(\"funded\")\n",
    "\n",
    "class Cihr(FundingSources):\n",
    "    def __init__(self, account_number):\n",
    "        self.account_number = account_number\n",
    "    def fund(self, lab):\n",
    "        print(\"CIHR funding.\")\n",
    "        print(f\"Account number: {self.account_number}\")\n",
    "        lab.set_status(\"funded\")\n",
    "\n",
    "class Sshrc(FundingSources):\n",
    "    def __init__(self, account_name):\n",
    "        self.account_name = account_name\n",
    "        # add a new approval variable to see if the funding was approved\n",
    "        self.approved = False\n",
    "    def fund(self, lab):\n",
    "        print(\"SSHRC funding.\")\n",
    "        print(f\"Account name: {self.account_name}\")\n",
    "        lab.set_status(\"funded\")\n",
    "        #add a new function to our NSERC class\n",
    "    def email_check(self, email):\n",
    "        print(f\"Funding is approved by {email}\")\n",
    "        self.approved = True\n",
    "\n",
    "class NoFund(FundingSources):\n",
    "    def fund(self, lab):\n",
    "        print(\"No funding\")\n",
    "        lab.set_status(\"Still not funded\")\n",
    "\n",
    "\n",
    "aol2024 = TimLab(2024)\n",
    "aol2024.add_student(\"Bing\", 30, 1)\n",
    "aol2024.add_student(\"Jesse\", 30, 0)\n",
    "\n",
    "print(aol2024.total_cost())\n",
    "\n",
    "funding = Nserc(\"Tim2024_NSERC\")\n",
    "funding.fund(aol2024)\n",
    "\n",
    "print(aol2024.status)\n",
    "aol2024.funding_per_year.clear()"
   ]
  },
  {
   "cell_type": "markdown",
   "metadata": {},
   "source": [
    "But as can be seen, this would give an error as all subclasses would need to have this `email_check` function, even though not all of them needed (you can just pass an empty `email_check` function to the other subclasses to make it work). \n",
    "\n",
    "So we need to segregate this task from the original class and create a new class for it."
   ]
  },
  {
   "cell_type": "code",
   "execution_count": 36,
   "metadata": {},
   "outputs": [
    {
     "name": "stdout",
     "output_type": "stream",
     "text": [
      "30\n",
      "Funding is approved by mie@utoronto.ca\n",
      "SSHRC funding.\n",
      "Account number: 123456\n",
      "funded\n"
     ]
    }
   ],
   "source": [
    "# new email approval class\n",
    "class EmailApproval:\n",
    "    approved = False\n",
    "\n",
    "    def email_check(self, email):\n",
    "        print(f\"Funding is approved by {email}\")\n",
    "        self.approved = True\n",
    "\n",
    "    def is_approved(self):\n",
    "        return self.approved\n",
    "\n",
    "class FundingSources(ABC):\n",
    "    @abstractmethod\n",
    "    def fund(self, lab):\n",
    "        pass\n",
    "\n",
    "class Nserc(FundingSources):\n",
    "\n",
    "    def __init__(self, account_name):\n",
    "        self.account_name = account_name\n",
    "    def fund(self, lab):\n",
    "        print(\"NSERC funding.\")\n",
    "        print(f\"Account name: {self.account_name}\")\n",
    "        lab.set_status(\"funded\")\n",
    "\n",
    "class Cihr(FundingSources):\n",
    "    def __init__(self, account_number):\n",
    "        self.account_number = account_number\n",
    "\n",
    "    def fund(self, lab):\n",
    "        print(\"CIHR funding.\")\n",
    "        print(f\"Account number: {self.account_number}\")\n",
    "        lab.set_status(\"funded\")\n",
    "\n",
    "class Sshrc(FundingSources):\n",
    "    # here we initialize with an `approval` parameter, which is of our EmailApproval class\n",
    "    def __init__(self, account_number, approval: EmailApproval):\n",
    "        self.account_number = account_number\n",
    "        self.approval = approval\n",
    "\n",
    "    def fund(self, lab):\n",
    "        if not self.approval.is_approved():\n",
    "            raise Exception(\"Funding hasn't been approved via email.\")\n",
    "        print(\"SSHRC funding.\")\n",
    "        print(f\"Account number: {self.account_number}\")\n",
    "        lab.set_status(\"funded\")\n",
    "\n",
    "class NoFund(FundingSources):\n",
    "    def fund(self, lab):\n",
    "        print(\"No funding\")\n",
    "        lab.set_status(\"Still not funded\")\n",
    "\n",
    "\n",
    "aol2024 = TimLab(2024)\n",
    "aol2024.add_student(\"Bing\", 30, 1)\n",
    "aol2024.add_student(\"Jesse\", 30, 0)\n",
    "\n",
    "print(aol2024.total_cost())\n",
    "\n",
    "# now we have an email approval instance to use for our SSHRC funding\n",
    "e_approval = EmailApproval()\n",
    "funding = Sshrc(123456, e_approval)\n",
    "e_approval.email_check('mie@utoronto.ca')\n",
    "funding.fund(aol2024)\n",
    "\n",
    "print(aol2024.status)\n",
    "aol2024.funding_per_year.clear()"
   ]
  },
  {
   "cell_type": "markdown",
   "metadata": {},
   "source": [
    "In the output, we can see that now the funding is approved by MIE via email, and when we switch the funding source, we don't need to call this `e_approval`, still allowing the code to be flexible. \n",
    "\n",
    "# D - Dependency Inversion"
   ]
  },
  {
   "cell_type": "markdown",
   "metadata": {},
   "source": [
    "Dependency inversion tries to ensure that we don't need to depending on specific instances of subclasses. In our code above, we initialize our `Sshrc()` subclass with the `approval: EmailApproval` parameter, meaning it'll only work with a specific class. But what if there are other types of approvals it could need in certain situations instead of email? \n",
    "\n",
    "To fix this, we make an abstract approval class to allow for us to pass any kind of approval into it."
   ]
  },
  {
   "cell_type": "code",
   "execution_count": 39,
   "metadata": {},
   "outputs": [
    {
     "name": "stdout",
     "output_type": "stream",
     "text": [
      "30\n",
      "Funding is approved by Funds Committee\n",
      "SSHRC funding.\n",
      "Account number: 123456\n",
      "funded\n"
     ]
    }
   ],
   "source": [
    "# our new approval class\n",
    "class Approval(ABC):\n",
    "    @abstractmethod\n",
    "    def is_approved(self):\n",
    "        pass\n",
    "\n",
    "# now our email approval is a subclass of Approval()\n",
    "class EmailApproval(Approval):\n",
    "    approved = False\n",
    "\n",
    "    def email_check(self, email):\n",
    "        print(f\"Funding is approved by {email}\")\n",
    "        self.approved = True\n",
    "\n",
    "    def is_approved(self):\n",
    "        return self.approved\n",
    "\n",
    "# we now have an additional commitee approval subclass which needs a committee name instead of email   \n",
    "class CommitteeApproval(Approval):\n",
    "    approved = False\n",
    "\n",
    "    def committee_check(self, committee_name):\n",
    "        print(f\"Funding is approved by {committee_name}\")\n",
    "        self.approved = True\n",
    "\n",
    "    def is_approved(self):\n",
    "        return self.approved\n",
    "\n",
    "class FundingSources(ABC):\n",
    "    @abstractmethod\n",
    "    def fund(self, lab):\n",
    "        pass\n",
    "\n",
    "\n",
    "class Nserc(FundingSources):\n",
    "\n",
    "    def __init__(self, account_name):\n",
    "        self.account_name = account_name\n",
    "\n",
    "    def fund(self, lab):\n",
    "        print(\"NSERC funding.\")\n",
    "        print(f\"Account name: {self.account_name}\")\n",
    "        lab.set_status(\"funded\")\n",
    "\n",
    "\n",
    "class Cihr(FundingSources):\n",
    "    def __init__(self, account_number):\n",
    "        self.account_number = account_number\n",
    "\n",
    "    def fund(self, lab):\n",
    "        print(\"CIHR funding.\")\n",
    "        print(f\"Account number: {self.account_number}\")\n",
    "        lab.set_status(\"funded\")\n",
    "\n",
    "# our Sshrc class now takes a general approval\n",
    "class Sshrc(FundingSources):\n",
    "    def __init__(self, account_number, approval: Approval):\n",
    "        self.account_number = account_number\n",
    "        self.approval = approval\n",
    "\n",
    "    def fund(self, lab):\n",
    "        if not self.approval.is_approved():\n",
    "            raise Exception(\"Funding hasn't been approved.\")\n",
    "        print(\"SSHRC funding.\")\n",
    "        print(f\"Account number: {self.account_number}\")\n",
    "        lab.set_status(\"funded\")\n",
    "\n",
    "\n",
    "class NoFund(FundingSources):\n",
    "    def fund(self, lab):\n",
    "        print(\"No funding\")\n",
    "        lab.set_status(\"Still not funded\")\n",
    "\n",
    "\n",
    "aol2024 = TimLab(2024)\n",
    "aol2024.add_student(\"Bing\", 30, 1)\n",
    "aol2024.add_student(\"Jesse\", 30, 0)\n",
    "\n",
    "print(aol2024.total_cost())\n",
    "\n",
    "# so now, if the situation calls for a committee approval, we can easily pass it into SSHRC\n",
    "c_approval = CommitteeApproval()\n",
    "funding = Sshrc(123456, c_approval)\n",
    "c_approval.committee_check('Funds Committee')\n",
    "funding.fund(aol2024)\n",
    "\n",
    "print(aol2024.status)\n",
    "aol2024.funding_per_year.clear()"
   ]
  },
  {
   "cell_type": "markdown",
   "metadata": {},
   "source": [
    "Now its easy to change the type of approval the funding might need. "
   ]
  },
  {
   "cell_type": "code",
   "execution_count": null,
   "metadata": {},
   "outputs": [],
   "source": []
  }
 ],
 "metadata": {
  "kernelspec": {
   "display_name": "Python 3",
   "language": "python",
   "name": "python3"
  },
  "language_info": {
   "codemirror_mode": {
    "name": "ipython",
    "version": 3
   },
   "file_extension": ".py",
   "mimetype": "text/x-python",
   "name": "python",
   "nbconvert_exporter": "python",
   "pygments_lexer": "ipython3",
   "version": "3.6.4"
  }
 },
 "nbformat": 4,
 "nbformat_minor": 2
}
